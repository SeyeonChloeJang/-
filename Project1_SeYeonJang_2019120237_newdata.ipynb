{
  "nbformat": 4,
  "nbformat_minor": 0,
  "metadata": {
    "colab": {
      "provenance": []
    },
    "kernelspec": {
      "name": "python3",
      "display_name": "Python 3"
    },
    "language_info": {
      "name": "python"
    }
  },
  "cells": [
    {
      "cell_type": "markdown",
      "source": [
        "## 3. 새로운 트레이닝 데이터로 학습시킨 모델을\n",
        "## evaluation data로 테스트한 결과"
      ],
      "metadata": {
        "id": "xyUKnt5s5Hti"
      }
    },
    {
      "cell_type": "code",
      "execution_count": 1,
      "metadata": {
        "id": "h6lZYcsaiiq1"
      },
      "outputs": [],
      "source": [
        "import numpy\n",
        "import pandas as pd\n",
        "import matplotlib.pyplot as plt\n",
        "import pickle"
      ]
    },
    {
      "cell_type": "code",
      "source": [
        "class NN:\n",
        "    \n",
        "    def __init__(self, inputnodes, hiddennodes, outputnodes, learningrate):\n",
        "        self.inodes = inputnodes\n",
        "        self.hnodes = hiddennodes\n",
        "        self.onodes = outputnodes\n",
        "        numpy.random.seed(2)\n",
        "        self.wih = numpy.random.normal(0.0, pow(self.inodes, -0.5), (self.hnodes, self.inodes))\n",
        "        self.who = numpy.random.normal(0.0, pow(self.hnodes, -0.5), (self.onodes, self.hnodes))\n",
        "        self.lr = learningrate    \n",
        "        pass\n",
        "    \n",
        "    def activation_function(self,x):\n",
        "        return 1/(1+numpy.exp(-x))\n",
        "    \n",
        "    def train(self, inputs_list, targets_list):\n",
        "        inputs = numpy.array(inputs_list, ndmin=2).T\n",
        "        targets = numpy.array(targets_list, ndmin=2).T\n",
        "        hidden_inputs = numpy.dot(self.wih, inputs)\n",
        "        hidden_outputs = self.activation_function(hidden_inputs)\n",
        "        final_inputs = numpy.dot(self.who, hidden_outputs)\n",
        "        final_outputs = self.activation_function(final_inputs)\n",
        "        output_errors = targets - final_outputs\n",
        "        hidden_errors = numpy.dot(self.who.T, output_errors) \n",
        "        self.who += self.lr * numpy.dot((output_errors * final_outputs * (1.0 - final_outputs)), numpy.transpose(hidden_outputs))\n",
        "        self.wih += self.lr * numpy.dot((hidden_errors * hidden_outputs * (1.0 - hidden_outputs)), numpy.transpose(inputs))       \n",
        "        pass\n",
        "    \n",
        "    def query(self, inputs_list):\n",
        "        inputs = numpy.array(inputs_list, ndmin=2).T\n",
        "        hidden_inputs = numpy.dot(self.wih, inputs)\n",
        "        hidden_outputs = self.activation_function(hidden_inputs)\n",
        "        final_inputs = numpy.dot(self.who, hidden_outputs)\n",
        "        final_outputs = self.activation_function(final_inputs)\n",
        "        return final_outputs"
      ],
      "metadata": {
        "id": "FxG0nPKLinZk"
      },
      "execution_count": 2,
      "outputs": []
    },
    {
      "cell_type": "code",
      "source": [
        "from google.colab import drive\n",
        "drive.mount('/content/drive')"
      ],
      "metadata": {
        "colab": {
          "base_uri": "https://localhost:8080/"
        },
        "id": "k6IbyngtincA",
        "outputId": "c1eacd16-d53f-405e-e9c9-c6758ef6fa37"
      },
      "execution_count": 9,
      "outputs": [
        {
          "output_type": "stream",
          "name": "stdout",
          "text": [
            "Drive already mounted at /content/drive; to attempt to forcibly remount, call drive.mount(\"/content/drive\", force_remount=True).\n"
          ]
        }
      ]
    },
    {
      "cell_type": "code",
      "source": [
        "training_data_file = pd.read_csv('/content/drive/MyDrive/colab/MNIST/mnist_traindata.csv')\n",
        "training_data_list = training_data_file.to_numpy()\n",
        "test_data_file = pd.read_csv('/content/drive/MyDrive/colab/MNIST/mnist_evaldata.csv')\n",
        "test_data_list = test_data_file.to_numpy()"
      ],
      "metadata": {
        "id": "G2m0jhHWineW"
      },
      "execution_count": 10,
      "outputs": []
    },
    {
      "cell_type": "code",
      "source": [
        "def em_ANN():\n",
        "  hidden_nodes = int(input(\"input hidden nodes\"))\n",
        "  learning_rate = float(input(\"input learning rate\"))\n",
        "  input_nodes = 784\n",
        "  output_nodes = 10\n",
        "  epochs = int(input(\"input epochs\"))\n",
        "  n = NN(input_nodes,hidden_nodes,output_nodes, learning_rate)\n",
        "  \n",
        "  pf_list = []\n",
        "  for e in range(epochs):\n",
        "    for record in training_data_list:\n",
        "        inputs = (record[1:] / 255.0 * 0.99) + 0.01\n",
        "        targets = numpy.zeros(output_nodes) + 0.01\n",
        "        targets[record[0]] = 0.99\n",
        "        n.train(inputs, targets)\n",
        "        \n",
        "    scorecard = []\n",
        "    for record in test_data_list:\n",
        "      correct_label = record[0]\n",
        "      inputs = (record[1:] / 255.0 * 0.99) + 0.01\n",
        "      outputs = n.query(inputs)\n",
        "      label = numpy.argmax(outputs)\n",
        "      if (label == correct_label):\n",
        "        scorecard.append(1)\n",
        "      else:\n",
        "        scorecard.append(0)\n",
        "        \n",
        "    scorecard = numpy.asarray(scorecard)\n",
        "    performance =  scorecard.sum() / scorecard.size\n",
        "    pf_list.append(performance)\n",
        "    print('.')\n",
        "\n",
        "  with open(f\"wih_{learning_rate}_{hidden_nodes}\",\"wb\")as file:\n",
        "    pickle.dump(n.wih,file)\n",
        "  with open(f\"who_{learning_rate}_{hidden_nodes}\",\"wb\")as file:\n",
        "    pickle.dump(n.who,file)  \n",
        "  plt.plot(pf_list)\n",
        "  plt.xlabel(\"epochs\")\n",
        "  plt.ylabel(\"performance\")\n",
        "  plt.title(f\"performance by learningrate({learning_rate}) & the number of hidden nodes({hidden_nodes})\")\n",
        "  plt.show()\n",
        "  print(\"maximum performance:\",max(pf_list),\"the epoch:\",pf_list.index(max(pf_list)))"
      ],
      "metadata": {
        "id": "lD4pcWpbingb"
      },
      "execution_count": 11,
      "outputs": []
    },
    {
      "cell_type": "code",
      "source": [
        "em_ANN()"
      ],
      "metadata": {
        "colab": {
          "base_uri": "https://localhost:8080/",
          "height": 1000
        },
        "id": "ixAP8sQ1inil",
        "outputId": "c7399700-9d01-4699-9169-04a605b5ce56"
      },
      "execution_count": 12,
      "outputs": [
        {
          "output_type": "stream",
          "name": "stdout",
          "text": [
            "input hidden nodes200\n",
            "input learning rate0.01\n",
            "input epochs30\n",
            ".\n",
            ".\n",
            ".\n",
            ".\n",
            ".\n",
            ".\n",
            ".\n",
            ".\n",
            ".\n",
            ".\n",
            ".\n",
            ".\n",
            ".\n",
            ".\n",
            ".\n",
            ".\n",
            ".\n",
            ".\n",
            ".\n",
            ".\n",
            ".\n",
            ".\n",
            ".\n",
            ".\n",
            ".\n",
            ".\n",
            ".\n",
            ".\n",
            ".\n",
            ".\n"
          ]
        },
        {
          "output_type": "display_data",
          "data": {
            "text/plain": [
              "<Figure size 640x480 with 1 Axes>"
            ],
            "image/png": "[encoded data removed]"
          },
          "metadata": {}
        },
        {
          "output_type": "stream",
          "name": "stdout",
          "text": [
            "maximum performance: 0.9826745668641717 the epoch: 29\n"
          ]
        }
      ]
    },
    {
      "cell_type": "markdown",
      "source": [
        "## 최종적으로 98.267%의 정확도를 보임"
      ],
      "metadata": {
        "id": "HYA8T5s95jCS"
      }
    },
    {
      "cell_type": "code",
      "source": [],
      "metadata": {
        "id": "YghSRPIU5o-H"
      },
      "execution_count": null,
      "outputs": []
    }
  ]
}