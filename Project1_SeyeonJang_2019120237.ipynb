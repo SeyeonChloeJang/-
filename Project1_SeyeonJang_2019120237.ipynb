{
  "cells": [
    {
      "cell_type": "code",
      "execution_count": 7,
      "metadata": {
        "id": "qfNVIQPAwvxS"
      },
      "outputs": [],
      "source": [
        "import numpy\n",
        "import pandas as pd\n",
        "import matplotlib.pyplot as plt\n",
        "import pickle"
      ]
    },
    {
      "cell_type": "code",
      "execution_count": 8,
      "metadata": {
        "id": "_vks_uZ0w4hg"
      },
      "outputs": [],
      "source": [
        "class NN:\n",
        "    \n",
        "    def __init__(self, inputnodes, hiddennodes, outputnodes, learningrate):\n",
        "        self.inodes = inputnodes\n",
        "        self.hnodes = hiddennodes\n",
        "        self.onodes = outputnodes\n",
        "        self.wih = numpy.random.normal(0.0, pow(self.inodes, -0.5), (self.hnodes, self.inodes))\n",
        "        self.who = numpy.random.normal(0.0, pow(self.hnodes, -0.5), (self.onodes, self.hnodes))\n",
        "        self.lr = learningrate    \n",
        "        pass\n",
        "    \n",
        "    def activation_function(self,x):\n",
        "        return 1/(1+numpy.exp(-x))\n",
        "    \n",
        "    def train(self, inputs_list, targets_list):\n",
        "        inputs = numpy.array(inputs_list, ndmin=2).T\n",
        "        targets = numpy.array(targets_list, ndmin=2).T\n",
        "        hidden_inputs = numpy.dot(self.wih, inputs)\n",
        "        hidden_outputs = self.activation_function(hidden_inputs)\n",
        "        final_inputs = numpy.dot(self.who, hidden_outputs)\n",
        "        final_outputs = self.activation_function(final_inputs)\n",
        "        output_errors = targets - final_outputs\n",
        "        hidden_errors = numpy.dot(self.who.T, output_errors) \n",
        "        self.who += self.lr * numpy.dot((output_errors * final_outputs * (1.0 - final_outputs)), numpy.transpose(hidden_outputs))\n",
        "        self.wih += self.lr * numpy.dot((hidden_errors * hidden_outputs * (1.0 - hidden_outputs)), numpy.transpose(inputs))       \n",
        "        pass\n",
        "    \n",
        "    def query(self, inputs_list):\n",
        "        inputs = numpy.array(inputs_list, ndmin=2).T\n",
        "        hidden_inputs = numpy.dot(self.wih, inputs)\n",
        "        hidden_outputs = self.activation_function(hidden_inputs)\n",
        "        final_inputs = numpy.dot(self.who, hidden_outputs)\n",
        "        final_outputs = self.activation_function(final_inputs)\n",
        "        return final_outputs"
      ]
    },
    {
      "cell_type": "code",
      "execution_count": 12,
      "metadata": {
        "id": "932M0lPx7mne"
      },
      "outputs": [],
      "source": [
        "training_data_file = pd.read_csv('https://pjreddie.com/media/files/mnist_train.csv')\n",
        "training_data_list = training_data_file.to_numpy()\n",
        "test_data_file = pd.read_csv('https://pjreddie.com/media/files/mnist_test.csv')\n",
        "test_data_list = test_data_file.to_numpy()"
      ]
    },
    {
      "cell_type": "code",
      "execution_count": 15,
      "metadata": {
        "id": "LYNpDefQxMrl"
      },
      "outputs": [],
      "source": [
        "def ANN(hidden_nodes, learning_rate, num_epoch):\n",
        "  # hidden_nodes = int(input(\"Hidden Node 개수를 입력하세요: \"))\n",
        "  # learning_rate = float(input(\"Learning Rate를 입력하세요: \"))\n",
        "  input_nodes = 784\n",
        "  output_nodes = 10\n",
        "  # epochs = int(input(\"Epoch를 입력하세요: \"))\n",
        "  epochs = num_epoch\n",
        "  n = NN(input_nodes,hidden_nodes,output_nodes, learning_rate)\n",
        "  \n",
        "  pf_list = []\n",
        "  for e in range(epochs):\n",
        "    for record in training_data_list:\n",
        "        inputs = (record[1:] / 255.0 * 0.99) + 0.01\n",
        "        targets = numpy.zeros(output_nodes) + 0.01\n",
        "        targets[record[0]] = 0.99\n",
        "        n.train(inputs, targets)\n",
        "        \n",
        "    scorecard = []\n",
        "    for record in test_data_list:\n",
        "      correct_label = record[0]\n",
        "      inputs = (record[1:] / 255.0 * 0.99) + 0.01\n",
        "      outputs = n.query(inputs)\n",
        "      label = numpy.argmax(outputs)\n",
        "      if (label == correct_label):\n",
        "        scorecard.append(1)\n",
        "      else:\n",
        "        scorecard.append(0)\n",
        "        \n",
        "    scorecard = numpy.asarray(scorecard)\n",
        "    performance =  scorecard.sum() / scorecard.size\n",
        "    pf_list.append(performance)\n",
        "    print('.')\n",
        "\n",
        "  with open(f\"wih_{learning_rate}_{hidden_nodes}\",\"wb\")as file:\n",
        "    pickle.dump(n.wih,file)\n",
        "  with open(f\"who_{learning_rate}_{hidden_nodes}\",\"wb\")as file:\n",
        "    pickle.dump(n.who,file)  \n",
        "  # plt.xlabel(\"epochs\")\n",
        "  # plt.ylabel(\"performance\")\n",
        "  # plt.title(f\"performance by learningrate({learning_rate}) & the number of hidden nodes({hidden_nodes})\")\n",
        "  # plt.show()\n",
        "  print(\"maximum performance:\",max(pf_list),\"the epoch:\",pf_list.index(max(pf_list)))\n",
        "\n",
        "  return pf_list"
      ]
    },
    {
      "cell_type": "code",
      "source": [
        "from google.colab import drive\n",
        "drive.mount(\"/content/drive\", force_remount=True)"
      ],
      "metadata": {
        "colab": {
          "base_uri": "https://localhost:8080/"
        },
        "id": "oka1G2esF2re",
        "outputId": "46a512a3-d255-4cae-aaf7-f153f09b9d7b"
      },
      "execution_count": 14,
      "outputs": [
        {
          "output_type": "stream",
          "name": "stdout",
          "text": [
            "Mounted at /content/drive\n"
          ]
        }
      ]
    },
    {
      "cell_type": "code",
      "source": [
        "new_data_file = pd.read_csv('/mnist_evaldata.csv')\n",
        "new_data_list = test_data_file.to_numpy()"
      ],
      "metadata": {
        "id": "CHjOeKryGBts"
      },
      "execution_count": 18,
      "outputs": []
    },
    {
      "cell_type": "code",
      "execution_count": null,
      "metadata": {
        "id": "dJZG-6wRz4rS"
      },
      "outputs": [],
      "source": [
        "## 하이퍼파라미터 설정 (Num Epoch을 30으로 고정)\n",
        "hidden_nodes = [100, 200, 300]\n",
        "learning_rate = [0.1, 0.01, 0.001]\n",
        "num_epoch = 30\n",
        "# num_epoch = [20, 50, 100]\n",
        "\n",
        "# iteration에 따른 accuracy rate 그래프\n",
        "fig, axes = plt.subplots(nrows=3, ncols=1, figsize=(8, 8))\n",
        "# for i, ax in enumerate(axes.flat):\n",
        "for h_node in hidden_nodes:\n",
        "  for l_rate in learning_rate:\n",
        "    pf_list = ANN(h_node, l_rate, num_epoch)\n",
        "    ax.plot(pf_list)\n",
        "    ax.set_title(f\"performance by learningrate({l_rate}) & the number of hidden nodes({h_node})\")\n",
        "    ax.set_xlabel(\"epochs\")\n",
        "    ax.set_ylabel(\"performance\")\n",
        "# plt.tight_layout()\n",
        "plt.show()"
      ]
    },
    {
      "cell_type": "code",
      "source": [
        "for h_node in hidden_nodes:\n",
        "      for l_rate in learning_rate:\n",
        "        print(h_node,l_rate)"
      ],
      "metadata": {
        "colab": {
          "base_uri": "https://localhost:8080/"
        },
        "id": "LjGMdPnzIB9B",
        "outputId": "5f5ee220-01a1-41a8-c4ad-3cb1ace315fb"
      },
      "execution_count": 21,
      "outputs": [
        {
          "output_type": "stream",
          "name": "stdout",
          "text": [
            "100 0.1\n",
            "100 0.01\n",
            "100 0.001\n",
            "200 0.1\n",
            "200 0.01\n",
            "200 0.001\n",
            "300 0.1\n",
            "300 0.01\n",
            "300 0.001\n"
          ]
        }
      ]
    },
    {
      "cell_type": "code",
      "source": [
        "def n_ANN():\n",
        "  hidden_nodes = int(input(\"Hidden Node 개수를 입력하세요: \"))\n",
        "  learning_rate = float(input(\"Learning Rate를 입력하세요: \"))\n",
        "  input_nodes = 784\n",
        "  output_nodes = 10\n",
        "  epochs = int(input(\"Epoch를 입력하세요: \"))\n",
        "  epochs = num_epoch\n",
        "  n = NN(input_nodes,hidden_nodes,output_nodes, learning_rate)\n",
        "  \n",
        "  pf_list = []\n",
        "  for e in range(epochs):\n",
        "    for record in training_data_list:\n",
        "        inputs = (record[1:] / 255.0 * 0.99) + 0.01\n",
        "        targets = numpy.zeros(output_nodes) + 0.01\n",
        "        targets[record[0]] = 0.99\n",
        "        n.train(inputs, targets)\n",
        "        \n",
        "    scorecard = []\n",
        "    for record in new_data_list:\n",
        "      correct_label = record[0]\n",
        "      inputs = (record[1:] / 255.0 * 0.99) + 0.01\n",
        "      outputs = n.query(inputs)\n",
        "      label = numpy.argmax(outputs)\n",
        "      if (label == correct_label):\n",
        "        scorecard.append(1)\n",
        "      else:\n",
        "        scorecard.append(0)\n",
        "        \n",
        "    scorecard = numpy.asarray(scorecard)\n",
        "    performance =  scorecard.sum() / scorecard.size\n",
        "    pf_list.append(performance)\n",
        "    print('.')\n",
        "\n",
        "  with open(f\"wih_{learning_rate}_{hidden_nodes}\",\"wb\")as file:\n",
        "    pickle.dump(n.wih,file)\n",
        "  with open(f\"who_{learning_rate}_{hidden_nodes}\",\"wb\")as file:\n",
        "    pickle.dump(n.who,file)  \n",
        "  # plt.xlabel(\"epochs\")\n",
        "  # plt.ylabel(\"performance\")\n",
        "  # plt.title(f\"performance by learningrate({learning_rate}) & the number of hidden nodes({hidden_nodes})\")\n",
        "  # plt.show()\n",
        "  print(\"maximum performance:\",max(pf_list),\"the epoch:\",pf_list.index(max(pf_list)))\n",
        "\n",
        "  return pf_list"
      ],
      "metadata": {
        "id": "qWMg5ABDFgsZ"
      },
      "execution_count": 24,
      "outputs": []
    },
    {
      "cell_type": "code",
      "source": [
        "n_ANN()"
      ],
      "metadata": {
        "colab": {
          "base_uri": "https://localhost:8080/"
        },
        "id": "ImJWO_2sFrIq",
        "outputId": "a8982f5d-59c0-449f-acb4-eac582639957"
      },
      "execution_count": null,
      "outputs": [
        {
          "output_type": "stream",
          "name": "stdout",
          "text": [
            "Hidden Node 개수를 입력하세요: 200\n",
            "Learning Rate를 입력하세요: 0.01\n",
            "Epoch를 입력하세요: 30\n",
            ".\n",
            ".\n",
            ".\n",
            ".\n",
            ".\n",
            ".\n",
            ".\n",
            ".\n",
            ".\n",
            ".\n",
            ".\n",
            ".\n",
            ".\n"
          ]
        }
      ]
    },
    {
      "cell_type": "code",
      "source": [
        "# # iteration에 따른 accuracy rate 그래프\n",
        "# fig, axes = plt.subplots(nrows=3, ncols=3, figsize=(8, 8))\n",
        "# # for i, ax in enumerate(axes.flat):\n",
        "# for h_node in hidden_nodes:\n",
        "#   for l_rate in learning_rate:\n",
        "#     pf_list = ANN(h_node, l_rate, num_epoch)\n",
        "#     ax.plot(pf_list)\n",
        "#     ax.set_title(f\"performance by learningrate({l_rate}) & the number of hidden nodes({h_node})\")\n",
        "#     ax.set_xlabel(\"epochs\")\n",
        "#     ax.set_ylabel(\"performance\")\n",
        "# # plt.tight_layout()\n",
        "# plt.show()"
      ],
      "metadata": {
        "id": "66e5uXo1Gz4r"
      },
      "execution_count": null,
      "outputs": []
    }
  ],
  "metadata": {
    "colab": {
      "provenance": [],
      "gpuType": "T4"
    },
    "kernelspec": {
      "display_name": "Python 3",
      "language": "python",
      "name": "python3"
    },
    "language_info": {
      "codemirror_mode": {
        "name": "ipython",
        "version": 3
      },
      "file_extension": ".py",
      "mimetype": "text/x-python",
      "name": "python",
      "nbconvert_exporter": "python",
      "pygments_lexer": "ipython3",
      "version": "3.8.5"
    },
    "accelerator": "GPU",
    "gpuClass": "standard"
  },
  "nbformat": 4,
  "nbformat_minor": 0
}