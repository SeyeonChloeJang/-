{
  "cells": [
    {
      "cell_type": "code",
      "execution_count": 1,
      "metadata": {
        "id": "qfNVIQPAwvxS"
      },
      "outputs": [],
      "source": [
        "import numpy\n",
        "import pandas as pd\n",
        "import matplotlib.pyplot as plt\n",
        "import pickle"
      ]
    },
    {
      "cell_type": "code",
      "execution_count": 2,
      "metadata": {
        "id": "_vks_uZ0w4hg"
      },
      "outputs": [],
      "source": [
        "class NN:\n",
        "    \n",
        "    def __init__(self, inputnodes, hiddennodes, outputnodes, learningrate):\n",
        "        self.inodes = inputnodes\n",
        "        self.hnodes = hiddennodes\n",
        "        self.onodes = outputnodes\n",
        "        self.wih = numpy.random.normal(0.0, pow(self.inodes, -0.5), (self.hnodes, self.inodes))\n",
        "        self.who = numpy.random.normal(0.0, pow(self.hnodes, -0.5), (self.onodes, self.hnodes))\n",
        "        self.lr = learningrate    \n",
        "        pass\n",
        "    \n",
        "    def activation_function(self,x):\n",
        "        return 1/(1+numpy.exp(-x))\n",
        "    \n",
        "    def train(self, inputs_list, targets_list):\n",
        "        inputs = numpy.array(inputs_list, ndmin=2).T\n",
        "        targets = numpy.array(targets_list, ndmin=2).T\n",
        "        hidden_inputs = numpy.dot(self.wih, inputs)\n",
        "        hidden_outputs = self.activation_function(hidden_inputs)\n",
        "        final_inputs = numpy.dot(self.who, hidden_outputs)\n",
        "        final_outputs = self.activation_function(final_inputs)\n",
        "        output_errors = targets - final_outputs\n",
        "        hidden_errors = numpy.dot(self.who.T, output_errors) \n",
        "        self.who += self.lr * numpy.dot((output_errors * final_outputs * (1.0 - final_outputs)), numpy.transpose(hidden_outputs))\n",
        "        self.wih += self.lr * numpy.dot((hidden_errors * hidden_outputs * (1.0 - hidden_outputs)), numpy.transpose(inputs))       \n",
        "        pass\n",
        "    \n",
        "    def query(self, inputs_list):\n",
        "        inputs = numpy.array(inputs_list, ndmin=2).T\n",
        "        hidden_inputs = numpy.dot(self.wih, inputs)\n",
        "        hidden_outputs = self.activation_function(hidden_inputs)\n",
        "        final_inputs = numpy.dot(self.who, hidden_outputs)\n",
        "        final_outputs = self.activation_function(final_inputs)\n",
        "        return final_outputs"
      ]
    },
    {
      "cell_type": "code",
      "execution_count": 3,
      "metadata": {
        "id": "932M0lPx7mne"
      },
      "outputs": [],
      "source": [
        "training_data_file = pd.read_csv('https://pjreddie.com/media/files/mnist_train.csv')\n",
        "training_data_list = training_data_file.to_numpy()\n",
        "test_data_file = pd.read_csv('https://pjreddie.com/media/files/mnist_test.csv')\n",
        "test_data_list = test_data_file.to_numpy()"
      ]
    },
    {
      "cell_type": "markdown",
      "source": [
        "## 0. 기존 MNIST 데이터로 트레이닝 / 테스트하며 최적의 하이퍼파라미터를 찾기 위한 과정"
      ],
      "metadata": {
        "id": "TImO8mA6j5yE"
      }
    },
    {
      "cell_type": "code",
      "execution_count": 4,
      "metadata": {
        "id": "LYNpDefQxMrl"
      },
      "outputs": [],
      "source": [
        "def ANN(hidden_nodes, learning_rate, num_epoch):\n",
        "  # hidden_nodes = int(input(\"Hidden Node 개수를 입력하세요: \"))\n",
        "  # learning_rate = float(input(\"Learning Rate를 입력하세요: \"))\n",
        "  input_nodes = 784\n",
        "  output_nodes = 10\n",
        "  # epochs = int(input(\"Epoch를 입력하세요: \"))\n",
        "  epochs = num_epoch\n",
        "  n = NN(input_nodes,hidden_nodes,output_nodes, learning_rate)\n",
        "  \n",
        "  pf_list = []\n",
        "  for e in range(epochs):\n",
        "    for record in training_data_list:\n",
        "        inputs = (record[1:] / 255.0 * 0.99) + 0.01\n",
        "        targets = numpy.zeros(output_nodes) + 0.01\n",
        "        targets[record[0]] = 0.99\n",
        "        n.train(inputs, targets)\n",
        "        \n",
        "    scorecard = []\n",
        "    for record in test_data_list:\n",
        "      correct_label = record[0]\n",
        "      inputs = (record[1:] / 255.0 * 0.99) + 0.01\n",
        "      outputs = n.query(inputs)\n",
        "      label = numpy.argmax(outputs)\n",
        "      if (label == correct_label):\n",
        "        scorecard.append(1)\n",
        "      else:\n",
        "        scorecard.append(0)\n",
        "        \n",
        "    scorecard = numpy.asarray(scorecard)\n",
        "    performance =  scorecard.sum() / scorecard.size\n",
        "    pf_list.append(performance)\n",
        "    print('.')\n",
        "\n",
        "  with open(f\"wih_{learning_rate}_{hidden_nodes}\",\"wb\")as file:\n",
        "    pickle.dump(n.wih,file)\n",
        "  with open(f\"who_{learning_rate}_{hidden_nodes}\",\"wb\")as file:\n",
        "    pickle.dump(n.who,file)  \n",
        "  # plt.xlabel(\"epochs\")\n",
        "  # plt.ylabel(\"performance\")\n",
        "  # plt.title(f\"performance by learningrate({learning_rate}) & the number of hidden nodes({hidden_nodes})\")\n",
        "  # plt.show()\n",
        "  print(\"maximum performance:\",max(pf_list),\"the epoch:\",pf_list.index(max(pf_list)))\n",
        "\n",
        "  return pf_list"
      ]
    },
    {
      "cell_type": "code",
      "execution_count": null,
      "metadata": {
        "id": "dJZG-6wRz4rS"
      },
      "outputs": [],
      "source": [
        "## 하이퍼파라미터 설정 (Num Epoch을 30으로 고정)\n",
        "hidden_nodes = [100, 200, 300]\n",
        "learning_rate = [0.1, 0.01, 0.001]\n",
        "num_epoch = 30\n",
        "# num_epoch = [20, 50, 100]\n",
        "\n",
        "# iteration에 따른 accuracy rate 그래프\n",
        "fig, axes = plt.subplots(nrows=3, ncols=1, figsize=(8, 8))\n",
        "for i, ax in enumerate(axes.flat):\n",
        "  for h_node in hidden_nodes:\n",
        "    for l_rate in learning_rate:\n",
        "      pf_list = ANN(h_node, l_rate, num_epoch)\n",
        "      ax.plot(pf_list)\n",
        "      ax.set_title(f\"performance by learningrate({l_rate}) & the number of hidden nodes({h_node})\")\n",
        "      ax.set_xlabel(\"epochs\")\n",
        "      ax.set_ylabel(\"performance\")\n",
        "plt.tight_layout()\n",
        "plt.show()"
      ]
    },
    {
      "cell_type": "code",
      "execution_count": null,
      "metadata": {
        "colab": {
          "base_uri": "https://localhost:8080/"
        },
        "id": "LjGMdPnzIB9B",
        "outputId": "5f5ee220-01a1-41a8-c4ad-3cb1ace315fb"
      },
      "outputs": [
        {
          "name": "stdout",
          "output_type": "stream",
          "text": [
            "100 0.1\n",
            "100 0.01\n",
            "100 0.001\n",
            "200 0.1\n",
            "200 0.01\n",
            "200 0.001\n",
            "300 0.1\n",
            "300 0.01\n",
            "300 0.001\n"
          ]
        }
      ],
      "source": [
        "for h_node in hidden_nodes:\n",
        "      for l_rate in learning_rate:\n",
        "        print(h_node,l_rate)"
      ]
    },
    {
      "cell_type": "markdown",
      "source": [
        "## 1. 모델에 레이어를 추가하고 기존 MNIST 데이터로 트레이닝 & 테스트"
      ],
      "metadata": {
        "id": "ICRItvGZyOWw"
      }
    },
    {
      "cell_type": "code",
      "source": [
        "import numpy as np\n",
        "\n",
        "class NN:\n",
        "    \n",
        "    def __init__(self, inputnodes, hiddennodes1, hiddennodes2, outputnodes, learningrate):\n",
        "        self.inodes = inputnodes\n",
        "        self.hnodes1 = hiddennodes1\n",
        "        self.hnodes2 = hiddennodes2 # 히든 레이어 추가\n",
        "        self.onodes = outputnodes\n",
        "        self.wih = np.random.normal(0.0, pow(self.inodes, -0.5), (self.hnodes1, self.inodes))\n",
        "        self.whh = np.random.normal(0.0, pow(self.hnodes1, -0.5), (self.hnodes2, self.hnodes1)) # 히든 레이어의 weight 추가\n",
        "        self.who = np.random.normal(0.0, pow(self.hnodes2, -0.5), (self.onodes, self.hnodes2))\n",
        "        self.lr = learningrate\n",
        "\n",
        "    def activation_function(self,x):\n",
        "        return 1/(1+numpy.exp(-x))\n",
        "\n",
        "    def train(self, inputs_list, targets_list):\n",
        "        inputs = np.array(inputs_list, ndmin=2).T\n",
        "        targets = np.array(targets_list, ndmin=2).T\n",
        "        \n",
        "        hidden1_inputs = np.dot(self.wih, inputs)\n",
        "        hidden1_outputs = self.activation_function(hidden1_inputs)\n",
        "        \n",
        "        hidden2_inputs = np.dot(self.whh, hidden1_outputs)\n",
        "        hidden2_outputs = self.activation_function(hidden2_inputs)\n",
        "        \n",
        "        final_inputs = np.dot(self.who, hidden2_outputs)\n",
        "        final_outputs = self.activation_function(final_inputs)\n",
        "        \n",
        "        output_errors = targets - final_outputs\n",
        "        hidden2_errors = np.dot(self.who.T, output_errors)\n",
        "        hidden1_errors = np.dot(self.whh.T, hidden2_errors)\n",
        "\n",
        "        self.who += self.lr * np.dot((output_errors * final_outputs * (1.0 - final_outputs)), np.transpose(hidden2_outputs))\n",
        "        self.whh += self.lr * np.dot((hidden2_errors * hidden2_outputs * (1.0 - hidden2_outputs)), np.transpose(hidden1_outputs))\n",
        "        self.wih += self.lr * np.dot((hidden1_errors * hidden1_outputs * (1.0 - hidden1_outputs)), np.transpose(inputs))\n",
        "        \n",
        "    def query(self, inputs_list):\n",
        "        inputs = np.array(inputs_list, ndmin=2).T\n",
        "\n",
        "        hidden1_inputs = np.dot(self.wih, inputs)\n",
        "        hidden1_outputs = self.activation_function(hidden1_inputs)\n",
        "        \n",
        "        hidden2_inputs = np.dot(self.whh, hidden1_outputs)\n",
        "        hidden2_outputs = self.activation_function(hidden2_inputs)\n",
        "        \n",
        "        final_inputs = np.dot(self.who, hidden2_outputs)\n",
        "        final_outputs = self.activation_function(final_inputs)\n",
        "        \n",
        "        return final_outputs\n"
      ],
      "metadata": {
        "id": "Z6FkHCw1yYXZ"
      },
      "execution_count": null,
      "outputs": []
    },
    {
      "cell_type": "code",
      "source": [
        "def ANN():\n",
        "  hidden_nodes1 = int(input(\"hidden nodes1 개수를 입력하세요: \"))\n",
        "  hidden_nodes2 = int(input(\"hidden nodes2 개수를 입력하세요: \"))\n",
        "  learning_rate = float(input(\"learning rate를 입력하세요: \"))\n",
        "  input_nodes = 784\n",
        "  output_nodes = 10\n",
        "  epochs = int(input(\"epoch 수를 입력하세요: \"))\n",
        "  n = NN(input_nodes, hidden_nodes1, hidden_nodes2, output_nodes, learning_rate)\n",
        "  \n",
        "  pf_list = []\n",
        "  for e in range(epochs):\n",
        "    for record in training_data_list:\n",
        "        inputs = (record[1:] / 255.0 * 0.99) + 0.01\n",
        "        targets = numpy.zeros(output_nodes) + 0.01\n",
        "        targets[record[0]] = 0.99\n",
        "        n.train(inputs, targets)\n",
        "        \n",
        "    scorecard = []\n",
        "    for record in test_data_list:\n",
        "      correct_label = record[0]\n",
        "      inputs = (record[1:] / 255.0 * 0.99) + 0.01\n",
        "      outputs = n.query(inputs)\n",
        "      label = numpy.argmax(outputs)\n",
        "      if (label == correct_label):\n",
        "        scorecard.append(1)\n",
        "      else:\n",
        "        scorecard.append(0)\n",
        "        \n",
        "    scorecard = numpy.asarray(scorecard)\n",
        "    performance =  scorecard.sum() / scorecard.size\n",
        "    pf_list.append(performance)\n",
        "    print('.')\n",
        "\n",
        "  plt.plot(pf_list)\n",
        "  plt.xlabel(\"epochs\")\n",
        "  plt.ylabel(\"performance\")\n",
        "  plt.title(f\"performance by learningrate({learning_rate}) & the number of hidden nodes({hidden_nodes1}, {hidden_nodes2})\")\n",
        "  plt.show()\n",
        "  print(\"maximum performance:\",max(pf_list),\"the epoch:\",pf_list.index(max(pf_list)))"
      ],
      "metadata": {
        "id": "fEoiu8fUyYZ_"
      },
      "execution_count": null,
      "outputs": []
    },
    {
      "cell_type": "code",
      "source": [
        "# 정확도가 오히려 떨어짐\n",
        "# (다른 파일에서 실행시켜 결과값이 없습니다 ㅜㅜ 발표 슬라이드의 결과를 참고해 주세요)"
      ],
      "metadata": {
        "id": "v8MKUSgzyYcM"
      },
      "execution_count": null,
      "outputs": []
    },
    {
      "cell_type": "markdown",
      "source": [
        "## 2. 과정 0에서 찾은 하이퍼파라미터와 기존 MNIST 데이터로 트레이닝한 모델을\n",
        "## evaluation data로 테스트한 결과"
      ],
      "metadata": {
        "id": "mZ9s0lvTjT8o"
      }
    },
    {
      "cell_type": "code",
      "source": [
        "from google.colab import drive\n",
        "drive.mount('/content/drive')"
      ],
      "metadata": {
        "colab": {
          "base_uri": "https://localhost:8080/"
        },
        "id": "hSp_fBhhaYbb",
        "outputId": "a39bc001-3dfa-4276-e747-bbc8105033c5"
      },
      "execution_count": 8,
      "outputs": [
        {
          "output_type": "stream",
          "name": "stdout",
          "text": [
            "Drive already mounted at /content/drive; to attempt to forcibly remount, call drive.mount(\"/content/drive\", force_remount=True).\n"
          ]
        }
      ]
    },
    {
      "cell_type": "code",
      "source": [
        "training_data_file = pd.read_csv('https://pjreddie.com/media/files/mnist_train.csv')\n",
        "training_data_list = training_data_file.to_numpy()\n",
        "test_data_file = pd.read_csv('/content/drive/MyDrive/colab/MNIST/mnist_evaldata.csv')\n",
        "test_data_list = test_data_file.to_numpy()"
      ],
      "metadata": {
        "id": "ZrP_rvCqjsh0"
      },
      "execution_count": 9,
      "outputs": []
    },
    {
      "cell_type": "code",
      "execution_count": 15,
      "metadata": {
        "id": "qWMg5ABDFgsZ"
      },
      "outputs": [],
      "source": [
        "def n_ANN():\n",
        "  hidden_nodes = int(input(\"input hidden nodes\"))\n",
        "  learning_rate = float(input(\"input learning rate\"))\n",
        "  input_nodes = 784\n",
        "  output_nodes = 10\n",
        "  epochs = int(input(\"input epochs\"))\n",
        "  n = NN(input_nodes,hidden_nodes,output_nodes, learning_rate)\n",
        "  \n",
        "  pf_list = []\n",
        "  for e in range(epochs):\n",
        "    for record in training_data_list:\n",
        "        inputs = (record[1:] / 255.0 * 0.99) + 0.01\n",
        "        targets = numpy.zeros(output_nodes) + 0.01\n",
        "        targets[record[0]] = 0.99\n",
        "        n.train(inputs, targets)\n",
        "        \n",
        "    scorecard = []\n",
        "    for record in test_data_list:\n",
        "      correct_label = record[0]\n",
        "      inputs = (record[1:] / 255.0 * 0.99) + 0.01\n",
        "      outputs = n.query(inputs)\n",
        "      label = numpy.argmax(outputs)\n",
        "      if (label == correct_label):\n",
        "        scorecard.append(1)\n",
        "      else:\n",
        "        scorecard.append(0)\n",
        "        \n",
        "    scorecard = numpy.asarray(scorecard)\n",
        "    performance =  scorecard.sum() / scorecard.size\n",
        "    pf_list.append(performance)\n",
        "    print('.')\n",
        "\n",
        "  with open(f\"wih_{learning_rate}_{hidden_nodes}\",\"wb\")as file:\n",
        "    pickle.dump(n.wih,file)\n",
        "  with open(f\"who_{learning_rate}_{hidden_nodes}\",\"wb\")as file:\n",
        "    pickle.dump(n.who,file)  \n",
        "  plt.plot(pf_list)\n",
        "  plt.xlabel(\"epochs\")\n",
        "  plt.ylabel(\"performance\")\n",
        "  plt.title(f\"performance by learningrate({learning_rate}) & the number of hidden nodes({hidden_nodes})\")\n",
        "  plt.show()\n",
        "  print(\"maximum performance:\",max(pf_list),\"the epoch:\",pf_list.index(max(pf_list)))"
      ]
    },
    {
      "cell_type": "code",
      "source": [
        "n_ANN()"
      ],
      "metadata": {
        "colab": {
          "base_uri": "https://localhost:8080/",
          "height": 1000
        },
        "id": "erMgIsZ-j0c-",
        "outputId": "d4291a77-09bd-47e2-9179-8d93248f3b21"
      },
      "execution_count": 17,
      "outputs": [
        {
          "output_type": "stream",
          "name": "stdout",
          "text": [
            "input hidden nodes200\n",
            "input learning rate0.01\n",
            "input epochs30\n",
            ".\n",
            ".\n",
            ".\n",
            ".\n",
            ".\n",
            ".\n",
            ".\n",
            ".\n",
            ".\n",
            ".\n",
            ".\n",
            ".\n",
            ".\n",
            ".\n",
            ".\n",
            ".\n",
            ".\n",
            ".\n",
            ".\n",
            ".\n",
            ".\n",
            ".\n",
            ".\n",
            ".\n",
            ".\n",
            ".\n",
            ".\n",
            ".\n",
            ".\n",
            ".\n"
          ]
        },
        {
          "output_type": "display_data",
          "data": {
            "text/plain": [
              "<Figure size 640x480 with 1 Axes>"
            ],
            "image/png": "[encoded data removed]"
          },
          "metadata": {}
        },
        {
          "output_type": "stream",
          "name": "stdout",
          "text": [
            "maximum performance: 0.18212955323883098 the epoch: 2\n"
          ]
        }
      ]
    }
  ],
  "metadata": {
    "colab": {
      "provenance": []
    },
    "gpuClass": "standard",
    "kernelspec": {
      "display_name": "Python 3",
      "language": "python",
      "name": "python3"
    },
    "language_info": {
      "codemirror_mode": {
        "name": "ipython",
        "version": 3
      },
      "file_extension": ".py",
      "mimetype": "text/x-python",
      "name": "python",
      "nbconvert_exporter": "python",
      "pygments_lexer": "ipython3",
      "version": "3.8.5"
    }
  },
  "nbformat": 4,
  "nbformat_minor": 0
}